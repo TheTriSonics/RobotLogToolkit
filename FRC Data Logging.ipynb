{
 "cells": [
  {
   "cell_type": "code",
   "execution_count": 1,
   "id": "e9679211",
   "metadata": {},
   "outputs": [
    {
     "data": {
      "text/plain": [
       "array(['accelX', 'accelY', 'accelZ', 'target X', 'target Y', 'pose X',\n",
       "       'pose Y', 'error X', 'error Y', 'is notifier stopped',\n",
       "       'target heading', 'pose heading'], dtype=object)"
      ]
     },
     "execution_count": 1,
     "metadata": {},
     "output_type": "execute_result"
    }
   ],
   "source": [
    "import datalog  as dl\n",
    "import pandas as pd\n",
    "import numpy as np\n",
    "\n",
    "def read_wpilog(filename):\n",
    "    data = dl.wpilog_to_json(filename)\n",
    "    df = pd.DataFrame(data)\n",
    "    return df\n",
    "\n",
    "# df = read_wpilog('newdump/FRC_20220330_210122.wpilog')\n",
    "df = read_wpilog('autons/FRC_20220331_001608.wpilog')\n",
    "# df = read_wpilog('newdump/FRC_20220330_213451.wpilog')\n",
    "# Remove the standard data fields, only keeping our custom data.\n",
    "df = df[df['name'].apply(lambda x: not x.startswith('NT:/') and x != 'NTConnection' and x != 'messages')]\n",
    "# Verify we've got only what we need\n",
    "df['name'].unique()\n"
   ]
  },
  {
   "cell_type": "code",
   "execution_count": 2,
   "id": "3bd50222",
   "metadata": {},
   "outputs": [
    {
     "data": {
      "text/html": [
       "<div>\n",
       "<style scoped>\n",
       "    .dataframe tbody tr th:only-of-type {\n",
       "        vertical-align: middle;\n",
       "    }\n",
       "\n",
       "    .dataframe tbody tr th {\n",
       "        vertical-align: top;\n",
       "    }\n",
       "\n",
       "    .dataframe thead th {\n",
       "        text-align: right;\n",
       "    }\n",
       "</style>\n",
       "<table border=\"1\" class=\"dataframe\">\n",
       "  <thead>\n",
       "    <tr style=\"text-align: right;\">\n",
       "      <th></th>\n",
       "      <th>name</th>\n",
       "      <th>type</th>\n",
       "      <th>timestamp</th>\n",
       "      <th>value</th>\n",
       "      <th>rownum</th>\n",
       "      <th>mints</th>\n",
       "      <th>maxts</th>\n",
       "      <th>avgts</th>\n",
       "      <th>diffts</th>\n",
       "    </tr>\n",
       "  </thead>\n",
       "  <tbody>\n",
       "    <tr>\n",
       "      <th>11208</th>\n",
       "      <td>error Y</td>\n",
       "      <td>double</td>\n",
       "      <td>14.968300</td>\n",
       "      <td>0.255164</td>\n",
       "      <td>248</td>\n",
       "      <td>14.968263</td>\n",
       "      <td>16.850305</td>\n",
       "      <td>15.282312</td>\n",
       "      <td>1.882042</td>\n",
       "    </tr>\n",
       "    <tr>\n",
       "      <th>13410</th>\n",
       "      <td>target heading</td>\n",
       "      <td>double</td>\n",
       "      <td>16.850301</td>\n",
       "      <td>30.0</td>\n",
       "      <td>248</td>\n",
       "      <td>14.968263</td>\n",
       "      <td>16.850305</td>\n",
       "      <td>15.282312</td>\n",
       "      <td>1.882042</td>\n",
       "    </tr>\n",
       "    <tr>\n",
       "      <th>11200</th>\n",
       "      <td>accelX</td>\n",
       "      <td>double</td>\n",
       "      <td>14.968263</td>\n",
       "      <td>0.0</td>\n",
       "      <td>248</td>\n",
       "      <td>14.968263</td>\n",
       "      <td>16.850305</td>\n",
       "      <td>15.282312</td>\n",
       "      <td>1.882042</td>\n",
       "    </tr>\n",
       "    <tr>\n",
       "      <th>11201</th>\n",
       "      <td>accelY</td>\n",
       "      <td>double</td>\n",
       "      <td>14.968271</td>\n",
       "      <td>0.0</td>\n",
       "      <td>248</td>\n",
       "      <td>14.968263</td>\n",
       "      <td>16.850305</td>\n",
       "      <td>15.282312</td>\n",
       "      <td>1.882042</td>\n",
       "    </tr>\n",
       "    <tr>\n",
       "      <th>11202</th>\n",
       "      <td>accelZ</td>\n",
       "      <td>double</td>\n",
       "      <td>14.968277</td>\n",
       "      <td>0.0</td>\n",
       "      <td>248</td>\n",
       "      <td>14.968263</td>\n",
       "      <td>16.850305</td>\n",
       "      <td>15.282312</td>\n",
       "      <td>1.882042</td>\n",
       "    </tr>\n",
       "  </tbody>\n",
       "</table>\n",
       "</div>"
      ],
      "text/plain": [
       "                 name    type  timestamp     value  rownum      mints  \\\n",
       "11208         error Y  double  14.968300  0.255164     248  14.968263   \n",
       "13410  target heading  double  16.850301      30.0     248  14.968263   \n",
       "11200          accelX  double  14.968263       0.0     248  14.968263   \n",
       "11201          accelY  double  14.968271       0.0     248  14.968263   \n",
       "11202          accelZ  double  14.968277       0.0     248  14.968263   \n",
       "\n",
       "           maxts      avgts    diffts  \n",
       "11208  16.850305  15.282312  1.882042  \n",
       "13410  16.850305  15.282312  1.882042  \n",
       "11200  16.850305  15.282312  1.882042  \n",
       "11201  16.850305  15.282312  1.882042  \n",
       "11202  16.850305  15.282312  1.882042  "
      ]
     },
     "execution_count": 2,
     "metadata": {},
     "output_type": "execute_result"
    }
   ],
   "source": [
    "# Now we create a rownum column that will take every variable we're logging,\n",
    "# group them together and internally sort that group by the timestamp value and\n",
    "# create an increasing row number for each group.\n",
    "# This in effect ranks the first target X witha rownum=1, the first target Y with a rownum=1\n",
    "# and so on down the line of columns, then rownum=2 contains the second value for each variable.\n",
    "df['rownum'] = df.sort_values(by='timestamp').groupby('name').cumcount() + 1\n",
    "\n",
    "# Now for each rownum we create new columns that shows us the minimum, or\n",
    "# first timestamp value in that rownum as well as max/last and the difference\n",
    "# between them. If the time difference is too large (subjective) we might want to consider\n",
    "# dropping an incomplete row of data or adjusting our technique for lining them up.\n",
    "df['mints'] = df.groupby('rownum')['timestamp'].transform('min')\n",
    "df['maxts'] = df.groupby('rownum')['timestamp'].transform('max')\n",
    "df['avgts'] = df.groupby('rownum')['timestamp'].transform('mean')\n",
    "df['diffts'] = df['maxts'] - df['mints']\n",
    "\n",
    "# Look for the rows with the largest difference.\n",
    "# (This is how I figured out we should drop messages from the data)\n",
    "timecheck_df = df.sort_values(by='diffts', ascending=False)\n",
    "timecheck_df.head()"
   ]
  },
  {
   "cell_type": "code",
   "execution_count": 3,
   "id": "2a2d9d18",
   "metadata": {},
   "outputs": [
    {
     "data": {
      "text/html": [
       "<div>\n",
       "<style scoped>\n",
       "    .dataframe tbody tr th:only-of-type {\n",
       "        vertical-align: middle;\n",
       "    }\n",
       "\n",
       "    .dataframe tbody tr th {\n",
       "        vertical-align: top;\n",
       "    }\n",
       "\n",
       "    .dataframe thead th {\n",
       "        text-align: right;\n",
       "    }\n",
       "</style>\n",
       "<table border=\"1\" class=\"dataframe\">\n",
       "  <thead>\n",
       "    <tr style=\"text-align: right;\">\n",
       "      <th>name</th>\n",
       "      <th>accelX</th>\n",
       "      <th>accelY</th>\n",
       "      <th>accelZ</th>\n",
       "      <th>error X</th>\n",
       "      <th>error Y</th>\n",
       "      <th>is notifier stopped</th>\n",
       "      <th>pose X</th>\n",
       "      <th>pose Y</th>\n",
       "      <th>pose heading</th>\n",
       "      <th>target X</th>\n",
       "      <th>target Y</th>\n",
       "      <th>target heading</th>\n",
       "      <th>pose error</th>\n",
       "    </tr>\n",
       "    <tr>\n",
       "      <th>rownum</th>\n",
       "      <th></th>\n",
       "      <th></th>\n",
       "      <th></th>\n",
       "      <th></th>\n",
       "      <th></th>\n",
       "      <th></th>\n",
       "      <th></th>\n",
       "      <th></th>\n",
       "      <th></th>\n",
       "      <th></th>\n",
       "      <th></th>\n",
       "      <th></th>\n",
       "      <th></th>\n",
       "    </tr>\n",
       "  </thead>\n",
       "  <tbody>\n",
       "    <tr>\n",
       "      <th>1</th>\n",
       "      <td>0.0</td>\n",
       "      <td>0.0</td>\n",
       "      <td>0.0</td>\n",
       "      <td>0.0</td>\n",
       "      <td>0.0</td>\n",
       "      <td>False</td>\n",
       "      <td>297.796121</td>\n",
       "      <td>30.497013</td>\n",
       "      <td>80.448151</td>\n",
       "      <td>297.796121</td>\n",
       "      <td>30.497013</td>\n",
       "      <td>45.0</td>\n",
       "      <td>35.448151</td>\n",
       "    </tr>\n",
       "    <tr>\n",
       "      <th>2</th>\n",
       "      <td>0.0</td>\n",
       "      <td>0.0</td>\n",
       "      <td>0.0</td>\n",
       "      <td>0.000938</td>\n",
       "      <td>-0.015675</td>\n",
       "      <td>False</td>\n",
       "      <td>297.796121</td>\n",
       "      <td>30.497013</td>\n",
       "      <td>80.447815</td>\n",
       "      <td>297.797059</td>\n",
       "      <td>30.481338</td>\n",
       "      <td>45.0</td>\n",
       "      <td>35.447815</td>\n",
       "    </tr>\n",
       "    <tr>\n",
       "      <th>3</th>\n",
       "      <td>0.0</td>\n",
       "      <td>0.0</td>\n",
       "      <td>0.0</td>\n",
       "      <td>0.000776</td>\n",
       "      <td>-0.022055</td>\n",
       "      <td>False</td>\n",
       "      <td>297.796121</td>\n",
       "      <td>30.497013</td>\n",
       "      <td>80.447815</td>\n",
       "      <td>297.796897</td>\n",
       "      <td>30.474958</td>\n",
       "      <td>45.0</td>\n",
       "      <td>35.447815</td>\n",
       "    </tr>\n",
       "    <tr>\n",
       "      <th>4</th>\n",
       "      <td>0.0</td>\n",
       "      <td>0.0</td>\n",
       "      <td>0.0</td>\n",
       "      <td>-0.000487</td>\n",
       "      <td>-0.01914</td>\n",
       "      <td>False</td>\n",
       "      <td>297.796121</td>\n",
       "      <td>30.497013</td>\n",
       "      <td>80.449799</td>\n",
       "      <td>297.795634</td>\n",
       "      <td>30.477873</td>\n",
       "      <td>45.0</td>\n",
       "      <td>35.449799</td>\n",
       "    </tr>\n",
       "    <tr>\n",
       "      <th>5</th>\n",
       "      <td>0.0</td>\n",
       "      <td>0.0</td>\n",
       "      <td>0.0</td>\n",
       "      <td>-0.002851</td>\n",
       "      <td>-0.00693</td>\n",
       "      <td>False</td>\n",
       "      <td>297.796121</td>\n",
       "      <td>30.497013</td>\n",
       "      <td>80.449799</td>\n",
       "      <td>297.79327</td>\n",
       "      <td>30.490084</td>\n",
       "      <td>45.0</td>\n",
       "      <td>35.449799</td>\n",
       "    </tr>\n",
       "  </tbody>\n",
       "</table>\n",
       "</div>"
      ],
      "text/plain": [
       "name   accelX accelY accelZ   error X   error Y is notifier stopped  \\\n",
       "rownum                                                                \n",
       "1         0.0    0.0    0.0       0.0       0.0               False   \n",
       "2         0.0    0.0    0.0  0.000938 -0.015675               False   \n",
       "3         0.0    0.0    0.0  0.000776 -0.022055               False   \n",
       "4         0.0    0.0    0.0 -0.000487  -0.01914               False   \n",
       "5         0.0    0.0    0.0 -0.002851  -0.00693               False   \n",
       "\n",
       "name        pose X     pose Y pose heading    target X   target Y  \\\n",
       "rownum                                                              \n",
       "1       297.796121  30.497013    80.448151  297.796121  30.497013   \n",
       "2       297.796121  30.497013    80.447815  297.797059  30.481338   \n",
       "3       297.796121  30.497013    80.447815  297.796897  30.474958   \n",
       "4       297.796121  30.497013    80.449799  297.795634  30.477873   \n",
       "5       297.796121  30.497013    80.449799   297.79327  30.490084   \n",
       "\n",
       "name   target heading pose error  \n",
       "rownum                            \n",
       "1                45.0  35.448151  \n",
       "2                45.0  35.447815  \n",
       "3                45.0  35.447815  \n",
       "4                45.0  35.449799  \n",
       "5                45.0  35.449799  "
      ]
     },
     "execution_count": 3,
     "metadata": {},
     "output_type": "execute_result"
    }
   ],
   "source": [
    "# Currently the df dataframe has a single 'name' column and a single 'value' column\n",
    "# that is a mix of everything we're measuring. Here we take each value for 'name'\n",
    "# (target X, target Y, etc.. ) and turn them into a column with ther row's 'value'\n",
    "# as the value of the cell\n",
    "pivot_df = df.pivot(index='rownum', columns='name', values='value')\n",
    "pivot_df['pose error'] = (pivot_df['pose heading']-pivot_df['target heading']).abs()\n",
    "pivot_df.head()\n"
   ]
  },
  {
   "cell_type": "code",
   "execution_count": 4,
   "id": "65a53da5",
   "metadata": {},
   "outputs": [],
   "source": [
    "# Trim our original dataframe down to just the rownum and timestamp values\n",
    "ts_df = df[['rownum', 'mints', 'maxts', 'avgts', 'diffts']]\n",
    "ts_df = ts_df.drop_duplicates()\n",
    "\n",
    "# Join the timestamp data back to our pivoted dataset so we've got that available in a single dataframe\n",
    "# The ts_df dataframe is basically a spreadsheet with rownum and the timestamp values for each as the columns\n",
    "# The pivot_df also contains the same rownum value, but it is already naturally its index\n",
    "# and Panads joins on indexes without fuss, so we index the ts_df to the rownum column it has\n",
    "# and let pandas join them up. Think of it like making two spreadsheets and copying and pasting\n",
    "# them together and it works because they're ordered the same way with the same number of rows.\n",
    "full_df = ts_df.set_index('rownum').join(pivot_df)\n",
    "\n",
    "# Fill forward any NaN (null) values that are still in the data. This basically says to\n",
    "# use the last known value for a column, like target X, if NaN was reported in this time slot\n",
    "full_df = full_df.ffill()\n",
    "# full_df"
   ]
  },
  {
   "cell_type": "code",
   "execution_count": 5,
   "id": "ec453a17",
   "metadata": {},
   "outputs": [
    {
     "data": {
      "image/png": "[encoded data removed]",
      "text/plain": [
       "<Figure size 432x288 with 1 Axes>"
      ]
     },
     "metadata": {
      "needs_background": "light"
     },
     "output_type": "display_data"
    },
    {
     "data": {
      "image/png": "[encoded data removed]",
      "text/plain": [
       "<Figure size 432x288 with 1 Axes>"
      ]
     },
     "metadata": {
      "needs_background": "light"
     },
     "output_type": "display_data"
    },
    {
     "data": {
      "image/png": "[encoded data removed]",
      "text/plain": [
       "<Figure size 432x288 with 1 Axes>"
      ]
     },
     "metadata": {
      "needs_background": "light"
     },
     "output_type": "display_data"
    }
   ],
   "source": [
    "import matplotlib.pyplot as plt\n",
    "\n",
    "plt.plot(full_df['pose X'], full_df['pose Y'], c='b')\n",
    "plt.plot(full_df['target X'], full_df['target Y'], c='g')\n",
    "plt.gca().set_aspect(1)\n",
    "plt.show()\n",
    "\n",
    "#plt.plot(full_df['target X'], full_df['target Y'])\n",
    "plt.plot(full_df['mints'], full_df['error X'], c='r')\n",
    "plt.plot(full_df['mints'], full_df['target X'], c='g')\n",
    "plt.plot(full_df['mints'], full_df['pose X'], c='b')\n",
    "plt.show()\n",
    "\n",
    "plt.plot(full_df['mints'], full_df['error Y'], c='r')\n",
    "plt.plot(full_df['mints'], full_df['target Y'], c='g')\n",
    "plt.plot(full_df['mints'], full_df['pose Y'], c='b')\n",
    "plt.show()\n"
   ]
  },
  {
   "cell_type": "code",
   "execution_count": 6,
   "id": "269eadc4",
   "metadata": {},
   "outputs": [
    {
     "data": {
      "image/png": "[encoded data removed]",
      "text/plain": [
       "<Figure size 432x288 with 1 Axes>"
      ]
     },
     "metadata": {
      "needs_background": "light"
     },
     "output_type": "display_data"
    },
    {
     "data": {
      "image/png": "[encoded data removed]",
      "text/plain": [
       "<Figure size 432x288 with 1 Axes>"
      ]
     },
     "metadata": {
      "needs_background": "light"
     },
     "output_type": "display_data"
    }
   ],
   "source": [
    "\n",
    "plt.plot(full_df['mints'], full_df['pose error'], c='r')\n",
    "plt.plot(full_df['mints'], full_df['target heading'], c='g')\n",
    "plt.plot(full_df['mints'], full_df['pose heading'], c='b')\n",
    "plt.show()\n",
    "plt.plot(full_df['mints'], full_df['diffts'], c='g')\n",
    "plt.plot(full_df['maxts'], full_df['diffts'], c='b')\n",
    "plt.show()"
   ]
  },
  {
   "cell_type": "code",
   "execution_count": 7,
   "id": "81f08cfb",
   "metadata": {},
   "outputs": [
    {
     "data": {
      "image/png": "[encoded data removed]",
      "text/plain": [
       "<Figure size 432x288 with 1 Axes>"
      ]
     },
     "metadata": {
      "needs_background": "light"
     },
     "output_type": "display_data"
    },
    {
     "data": {
      "image/png": "[encoded data removed]",
      "text/plain": [
       "<Figure size 432x288 with 1 Axes>"
      ]
     },
     "metadata": {
      "needs_background": "light"
     },
     "output_type": "display_data"
    }
   ],
   "source": [
    "tmpdf = full_df\n",
    "tmpdf['deltaX'] = (tmpdf['pose X']-tmpdf['pose X'].shift(1)).abs()\n",
    "tmpdf['deltaY'] = (tmpdf['pose Y']-tmpdf['pose Y'].shift(1)).abs()\n",
    "tmpdf['distance'] = np.sqrt(tmpdf['deltaX']**2 + tmpdf['deltaY']**2)\n",
    "tmpdf['velocity'] = tmpdf['distance']/(tmpdf['avgts']-tmpdf['avgts'].shift(1))\n",
    "tmpdf['velocity_fps'] = tmpdf['velocity']/12\n",
    "tmpdf['velocity_fps_avg'] = tmpdf['velocity_fps'].rolling(16).mean()\n",
    "\n",
    "tmpdf['deltaVelocity'] = tmpdf.velocity - tmpdf.velocity.shift(1)\n",
    "tmpdf['acceleration'] = tmpdf.deltaVelocity / (tmpdf.mints - tmpdf.mints.shift(1))  # In inches/sec/sec\n",
    "\n",
    "plt.plot(tmpdf['avgts'], tmpdf['velocity_fps_avg'], c='m')\n",
    "plt.show()\n",
    "\n",
    "plt.scatter(tmpdf['pose X'], tmpdf['pose Y'], s=1, c=tmpdf.velocity_fps_avg, cmap='jet')\n",
    "plt.gca().set_aspect(1)\n",
    "plt.show()"
   ]
  },
  {
   "cell_type": "code",
   "execution_count": 9,
   "id": "b04df24f",
   "metadata": {},
   "outputs": [
    {
     "data": {
      "image/png": "[encoded data removed]",
      "text/plain": [
       "<Figure size 432x288 with 1 Axes>"
      ]
     },
     "metadata": {
      "needs_background": "light"
     },
     "output_type": "display_data"
    }
   ],
   "source": [
    "plt.scatter(tmpdf.mints, tmpdf.accelY, s=1)\n",
    "plt.show()"
   ]
  }
 ],
 "metadata": {
  "kernelspec": {
   "display_name": "Python 3 (ipykernel)",
   "language": "python",
   "name": "python3"
  },
  "language_info": {
   "codemirror_mode": {
    "name": "ipython",
    "version": 3
   },
   "file_extension": ".py",
   "mimetype": "text/x-python",
   "name": "python",
   "nbconvert_exporter": "python",
   "pygments_lexer": "ipython3",
   "version": "3.9.2"
  }
 },
 "nbformat": 4,
 "nbformat_minor": 5
}
